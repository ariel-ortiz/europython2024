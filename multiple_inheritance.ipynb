{
 "cells": [
  {
   "cell_type": "markdown",
   "metadata": {},
   "source": [
    "# Demystifying Multiple Inheritance in Python"
   ]
  },
  {
   "cell_type": "markdown",
   "metadata": {},
   "source": [
    "## Example of Multiple Inheritance"
   ]
  },
  {
   "cell_type": "code",
   "execution_count": null,
   "metadata": {},
   "outputs": [],
   "source": [
    "from collections import UserString, Counter\n",
    "\n",
    "class StringCounter(UserString, Counter):\n",
    "\n",
    "    def __init__(self, initial):\n",
    "        UserString.__init__(self, initial)\n",
    "        Counter.__init__(self, initial)\n",
    "\n",
    "sc = StringCounter('succeeded')\n",
    "\n",
    "# You can use UserString (str) methods\n",
    "print(f'{sc = }')\n",
    "print(f'{sc[0] = }')\n",
    "print(f'{len(sc) = }')\n",
    "print(f'{sc.upper() = }')\n",
    "\n",
    "# And also Counter (dict) methods\n",
    "print(f'{sc.items() = }')\n",
    "print(f'{sc.keys() = }')\n",
    "print(f'{sc.most_common() = }')"
   ]
  },
  {
   "cell_type": "markdown",
   "metadata": {},
   "source": [
    "## How Python Handles the Diamond Problem"
   ]
  },
  {
   "cell_type": "code",
   "execution_count": null,
   "metadata": {},
   "outputs": [],
   "source": [
    "class Base(object):\n",
    "    def method(self):\n",
    "        print('Method in Base')\n",
    "\n",
    "class Left(Base):\n",
    "    def method(self):\n",
    "        print('Method in Left')\n",
    "\n",
    "class Right(Base):\n",
    "    def method(self):\n",
    "        print('Method in Right')\n",
    "\n",
    "class Derived(Left, Right):\n",
    "    pass\n",
    "\n",
    "d = Derived()\n",
    "d.method()\n",
    "\n",
    "# from pprint import pp\n",
    "# pp(Derived.__mro__)"
   ]
  },
  {
   "cell_type": "markdown",
   "metadata": {},
   "source": [
    "## MRO Example 1"
   ]
  },
  {
   "cell_type": "code",
   "execution_count": null,
   "metadata": {},
   "outputs": [],
   "source": [
    "class A(object): pass\n",
    "class B(A): pass\n",
    "class C(A): pass\n",
    "class D(B, C): pass\n",
    "\n",
    "from pprint import pp\n",
    "pp(D.__mro__)"
   ]
  },
  {
   "cell_type": "markdown",
   "metadata": {},
   "source": [
    "## MRO Example 2"
   ]
  },
  {
   "cell_type": "code",
   "execution_count": null,
   "metadata": {},
   "outputs": [],
   "source": [
    "class A(object): pass\n",
    "class B(A): pass\n",
    "class C(A): pass\n",
    "# The following line produces an error\n",
    "class D(B, A, C): pass  # type: ignore\n",
    "\n",
    "from pprint import pp\n",
    "pp(D.__mro__)"
   ]
  },
  {
   "cell_type": "markdown",
   "metadata": {},
   "source": [
    "## A `super()` Example"
   ]
  },
  {
   "cell_type": "code",
   "execution_count": null,
   "metadata": {},
   "outputs": [],
   "source": [
    "class A(object):\n",
    "    def method(self):\n",
    "        return 'A'\n",
    "\n",
    "class B(A):\n",
    "    def method(self):\n",
    "        return 'B' + super().method()\n",
    "\n",
    "class C(A):\n",
    "    def method(self):\n",
    "        return 'C' + super().method()\n",
    "\n",
    "class D(B, C):\n",
    "    def method(self):\n",
    "        return 'D' + super().method()\n",
    "\n",
    "class E(B, C):\n",
    "    def method(self):\n",
    "        return 'E' + super().method()\n",
    "\n",
    "class F(D, E):\n",
    "    def method(self):\n",
    "        # These three are equivalent:\n",
    "        return 'F' + super().method()\n",
    "        # return 'F' + super(F, self).method()\n",
    "        # return 'F' + D.method(self)\n",
    "\n",
    "        # These two are equivalente:\n",
    "        # return 'F' + A.method(self)\n",
    "        # return 'F' + super(C, self).method()\n",
    "\n",
    "from pprint import pp\n",
    "pp(F.__mro__)\n",
    "\n",
    "f = F()\n",
    "f.method()"
   ]
  },
  {
   "cell_type": "markdown",
   "metadata": {},
   "source": [
    "## Defining Your Own MRO"
   ]
  },
  {
   "cell_type": "code",
   "execution_count": null,
   "metadata": {},
   "outputs": [],
   "source": [
    "class A(object):\n",
    "    def method(self):\n",
    "        if hasattr(super(), 'method'):\n",
    "            return 'A' + super().method()  # type: ignore\n",
    "        else:\n",
    "            return 'A'\n",
    "\n",
    "class B(A):\n",
    "    def method(self):\n",
    "        if hasattr(super(), 'method'):\n",
    "            return 'B' + super().method()\n",
    "        else:\n",
    "            return 'B'\n",
    "\n",
    "class MyMRO(type):\n",
    "    def mro(cls):\n",
    "        return [cls, A, B, object]\n",
    "\n",
    "class C(B, metaclass=MyMRO):\n",
    "    def method(self):\n",
    "        if hasattr(super(), 'method'):\n",
    "            return 'C' + super().method()\n",
    "        else:\n",
    "            return 'C'\n",
    "\n",
    "from pprint import pp\n",
    "pp(C.__mro__)\n",
    "\n",
    "c = C()\n",
    "c.method()"
   ]
  },
  {
   "cell_type": "markdown",
   "metadata": {},
   "source": [
    "## Mixin Example"
   ]
  },
  {
   "cell_type": "code",
   "execution_count": null,
   "metadata": {},
   "outputs": [],
   "source": [
    "import json\n",
    "\n",
    "# A mixin for JSON serialization\n",
    "class JsonMixin:\n",
    "    def to_json(self):\n",
    "        return json.dumps(self.__dict__)\n",
    "\n",
    "class Person:\n",
    "    def __init__(self, name, age):\n",
    "        self.name = name\n",
    "        self.age = age\n",
    "\n",
    "# A class that uses the mixin\n",
    "class Employee(JsonMixin, Person):\n",
    "    def __init__(self, name, age, position):\n",
    "        super().__init__(name, age)\n",
    "        self.position = position\n",
    "\n",
    "employee = Employee('Guido van Rossum', 68, 'Dutch programmer')\n",
    "print(employee.to_json())"
   ]
  },
  {
   "cell_type": "markdown",
   "metadata": {},
   "source": [
    "## Favor Composition over Inheritance"
   ]
  },
  {
   "cell_type": "markdown",
   "metadata": {},
   "source": [
    "### Inheritance Example"
   ]
  },
  {
   "cell_type": "code",
   "execution_count": null,
   "metadata": {},
   "outputs": [],
   "source": [
    "from collections import UserList\n",
    "\n",
    "class StackInheritance(UserList):\n",
    "    def push(self, item):\n",
    "        self.append(item)\n",
    "\n",
    "    def peek(self):\n",
    "        return self[-1]\n",
    "\n",
    "    def __len__(self):\n",
    "        return super().__len__()\n",
    "\n",
    "s = StackInheritance()\n",
    "s.push('a')\n",
    "s.push('b')\n",
    "s.push('c')\n",
    "print(f'{s = }')\n",
    "print(f'{s.pop() = }')\n",
    "print(f'{s.peek() = }')\n",
    "print(f'{len(s) = }')\n",
    "\n",
    "# You can still use all the UserList methods!\n",
    "print(f'{s[0] = }')\n",
    "s.insert(0, 'd')\n",
    "print(f'{s = }')"
   ]
  },
  {
   "cell_type": "markdown",
   "metadata": {},
   "source": [
    "### Composition Example"
   ]
  },
  {
   "cell_type": "code",
   "execution_count": null,
   "metadata": {},
   "outputs": [],
   "source": [
    "from collections import UserList\n",
    "from typing import Any\n",
    "\n",
    "class StackComposition:\n",
    "    def __init__(self):\n",
    "        self.__list = UserList()\n",
    "\n",
    "    def push(self, item):\n",
    "        self.__list.append(item)\n",
    "\n",
    "    def pop(self):\n",
    "        return self.__list.pop()\n",
    "\n",
    "    def peek(self):\n",
    "        return self.__list[-1]\n",
    "\n",
    "    def __len__(self):\n",
    "        return len(self.__list)\n",
    "\n",
    "    def __repr__(self):\n",
    "        return repr(self.__list)\n",
    "\n",
    "s = StackComposition()\n",
    "s.push('a')\n",
    "s.push('b')\n",
    "s.push('c')\n",
    "print(f'{s = }')\n",
    "print(f'{s.pop() = }')\n",
    "print(f'{s.peek() = }')\n",
    "print(f'{len(s) = }')\n",
    "\n",
    "# You can't use directly the UserList methods!\n",
    "# print(f'{s[0] = }')\n",
    "# s.insert(0, 'd')\n",
    "# print(f'{s = }')"
   ]
  },
  {
   "cell_type": "markdown",
   "metadata": {},
   "source": [
    "## ISP Example"
   ]
  },
  {
   "cell_type": "code",
   "execution_count": null,
   "metadata": {},
   "outputs": [],
   "source": [
    "from typing import Protocol\n",
    "\n",
    "class InputProtocol(Protocol):\n",
    "    def read(self) -> str:\n",
    "        ...\n",
    "\n",
    "class OutputProtocol(Protocol):\n",
    "    def write(self, data: str) -> None:\n",
    "        ...\n",
    "\n",
    "class ConsoleOutput(OutputProtocol):\n",
    "    def write(self, data: str) -> None:\n",
    "        print(f'Output: {data}')\n",
    "\n",
    "class ConsoleInput(InputProtocol):\n",
    "    def read(self) -> str:\n",
    "        return input('Input: ')\n",
    "\n",
    "class ConsoleInputOutput(ConsoleInput, ConsoleOutput):\n",
    "    ...\n",
    "\n",
    "def write_something(outp: OutputProtocol, data: str) -> None:\n",
    "    print('Writing something...')\n",
    "    outp.write(data)\n",
    "\n",
    "def read_something(inp: InputProtocol) -> None:\n",
    "    print('Reading something...')\n",
    "    print(f'Data read: {inp.read()}')"
   ]
  },
  {
   "cell_type": "code",
   "execution_count": null,
   "metadata": {},
   "outputs": [],
   "source": [
    "console_out = ConsoleOutput()\n",
    "write_something(console_out, 'some data')\n",
    "# read_something(console_out)  #  This line produces a static type checker error"
   ]
  },
  {
   "cell_type": "code",
   "execution_count": null,
   "metadata": {},
   "outputs": [],
   "source": [
    "console_in = ConsoleInput()\n",
    "# write_something(console_in, 'some data')  #  This line produces a static type checker error\n",
    "read_something(console_in)"
   ]
  },
  {
   "cell_type": "code",
   "execution_count": null,
   "metadata": {},
   "outputs": [],
   "source": [
    "console_in_out = ConsoleInputOutput()\n",
    "write_something(console_in_out, 'some data')\n",
    "read_something(console_in_out)"
   ]
  }
 ],
 "metadata": {
  "kernelspec": {
   "display_name": "Python 3",
   "language": "python",
   "name": "python3"
  },
  "language_info": {
   "codemirror_mode": {
    "name": "ipython",
    "version": 3
   },
   "file_extension": ".py",
   "mimetype": "text/x-python",
   "name": "python",
   "nbconvert_exporter": "python",
   "pygments_lexer": "ipython3",
   "version": "3.12.4"
  }
 },
 "nbformat": 4,
 "nbformat_minor": 2
}
